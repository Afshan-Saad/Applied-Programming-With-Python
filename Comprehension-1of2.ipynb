{
 "cells": [
  {
   "cell_type": "markdown",
   "metadata": {},
   "source": [
    "# Suppose you have a set of some real numbers in the range of -50 to 50. And you are asked to convert these numbers in positive, and copy them in a new set."
   ]
  },
  {
   "cell_type": "code",
   "execution_count": null,
   "metadata": {},
   "outputs": [],
   "source": [
    "Z = set(range(-50, 51))\n",
    "print(Z)"
   ]
  },
  {
   "cell_type": "code",
   "execution_count": null,
   "metadata": {},
   "outputs": [],
   "source": [
    "S = set()\n",
    "for x in Z:\n",
    "    S.add(abs(x))"
   ]
  },
  {
   "cell_type": "code",
   "execution_count": null,
   "metadata": {},
   "outputs": [],
   "source": [
    "print(S)"
   ]
  },
  {
   "cell_type": "markdown",
   "metadata": {},
   "source": [
    "## Comprehension"
   ]
  },
  {
   "cell_type": "code",
   "execution_count": null,
   "metadata": {},
   "outputs": [],
   "source": [
    "S = { abs(x) for x in Z  }"
   ]
  },
  {
   "cell_type": "code",
   "execution_count": null,
   "metadata": {},
   "outputs": [],
   "source": [
    "print(S)"
   ]
  },
  {
   "cell_type": "markdown",
   "metadata": {},
   "source": [
    "# Challenge 1\n",
    "\n",
    "Make a set of 1000 random numbers that ranges between -500 to 500."
   ]
  },
  {
   "cell_type": "code",
   "execution_count": null,
   "metadata": {},
   "outputs": [],
   "source": [
    "import random"
   ]
  },
  {
   "cell_type": "code",
   "execution_count": null,
   "metadata": {},
   "outputs": [],
   "source": [
    "R = set()\n",
    "for x in range(0,1000):\n",
    "    R.add(random.randint(-500,501))\n",
    "print(R)"
   ]
  },
  {
   "cell_type": "code",
   "execution_count": null,
   "metadata": {},
   "outputs": [],
   "source": [
    "R = { random.randint(-500,501) for x in range(0,1000) }\n",
    "print(R)"
   ]
  },
  {
   "cell_type": "markdown",
   "metadata": {},
   "source": [
    "# Suppose you have a set of real numbers, and you want to extract all numbers from the set, after converting them into positive and checking whether their ^2 is greater than 3."
   ]
  },
  {
   "cell_type": "code",
   "execution_count": null,
   "metadata": {},
   "outputs": [],
   "source": [
    "print(Z)"
   ]
  },
  {
   "cell_type": "code",
   "execution_count": null,
   "metadata": {},
   "outputs": [],
   "source": [
    "S = set()\n",
    "for x in Z:\n",
    "    if x ** 2 > 3:\n",
    "        S.add(abs(x))\n",
    "print(S)"
   ]
  },
  {
   "cell_type": "code",
   "execution_count": null,
   "metadata": {},
   "outputs": [],
   "source": [
    "S = [ abs(x) for x in Z if x ** 2 > 3 ]\n",
    "print(S)"
   ]
  },
  {
   "cell_type": "markdown",
   "metadata": {},
   "source": [
    "# Challenge 2\n",
    "Extract all even numbers (say x) in set Z and convert them to list of positive even numbers."
   ]
  },
  {
   "cell_type": "code",
   "execution_count": null,
   "metadata": {},
   "outputs": [],
   "source": [
    "print(Z)"
   ]
  },
  {
   "cell_type": "code",
   "execution_count": null,
   "metadata": {},
   "outputs": [],
   "source": [
    "L = list()\n",
    "for x in Z:\n",
    "    if x % 2 == 0:\n",
    "        L.append(abs(x))"
   ]
  },
  {
   "cell_type": "code",
   "execution_count": null,
   "metadata": {},
   "outputs": [],
   "source": [
    "L = [ abs(x) for x in Z if x % 2 == 0 ]\n",
    "print(L)"
   ]
  },
  {
   "cell_type": "markdown",
   "metadata": {},
   "source": [
    "# Challenge 3\n",
    "Suppose you are provided a long string. You have to split the string into words and remove stop words. "
   ]
  },
  {
   "cell_type": "code",
   "execution_count": null,
   "metadata": {},
   "outputs": [],
   "source": [
    "string = 'my name is yaseen and i am recording this video in night'\n",
    "stop_words = [ 'my', 'is', 'and', 'i', 'am', 'this', 'in' ]\n",
    "final_words = [ ]"
   ]
  },
  {
   "cell_type": "code",
   "execution_count": null,
   "metadata": {},
   "outputs": [],
   "source": [
    "words = string.split(  )\n",
    "print(words)"
   ]
  },
  {
   "cell_type": "code",
   "execution_count": null,
   "metadata": {},
   "outputs": [],
   "source": [
    "for w in words:\n",
    "    if w not in stop_words:\n",
    "        final_words.append(w)\n",
    "print(final_words)"
   ]
  },
  {
   "cell_type": "code",
   "execution_count": null,
   "metadata": {},
   "outputs": [],
   "source": [
    "words = [ w for w in words if w not in stop_words ]\n",
    "print(words)"
   ]
  },
  {
   "cell_type": "markdown",
   "metadata": {},
   "source": [
    "# Dictionary Comprehensions"
   ]
  },
  {
   "cell_type": "code",
   "execution_count": null,
   "metadata": {},
   "outputs": [],
   "source": [
    "a = ('abc', 'def', 'ghi', 'jkl')\n",
    "b = ('lmn', 'opq', 'rst', 'xyz')\n",
    "c = dict()\n",
    "\n",
    "for x,y in zip(a,b):\n",
    "    c[x] = y\n",
    "\n",
    "print(c)\n",
    "    "
   ]
  },
  {
   "cell_type": "code",
   "execution_count": null,
   "metadata": {},
   "outputs": [],
   "source": [
    "c = { k:v for k,v in zip(a,b) }\n",
    "print(c)"
   ]
  },
  {
   "cell_type": "markdown",
   "metadata": {},
   "source": [
    "# Challenge 4\n",
    "Use dictionary comprehensions for the construction of dictionary of word frequency from list of strings. Such that key is word and frequency is value."
   ]
  },
  {
   "cell_type": "code",
   "execution_count": 40,
   "metadata": {},
   "outputs": [],
   "source": [
    "string = 'Use dictionary comprehensions for the construction of dictionary of word frequency from list of strings. Such that key is word and frequency is value.'"
   ]
  },
  {
   "cell_type": "code",
   "execution_count": 41,
   "metadata": {},
   "outputs": [
    {
     "name": "stdout",
     "output_type": "stream",
     "text": [
      "{'and': 1, 'strings.': 1, 'comprehensions': 1, 'the': 1, 'for': 1, 'Such': 1, 'of': 3, 'word': 2, 'that': 1, 'key': 1, 'is': 2, 'construction': 1, 'from': 1, 'value.': 1, 'dictionary': 2, 'list': 1, 'frequency': 2, 'Use': 1}\n"
     ]
    }
   ],
   "source": [
    "words = string.split()\n",
    "distinct_words = set(words)\n",
    "word_freq = dict()\n",
    "\n",
    "for dw in distinct_words:\n",
    "    word_freq[dw] = words.count(dw)\n",
    "    \n",
    "print(word_freq)"
   ]
  },
  {
   "cell_type": "code",
   "execution_count": 42,
   "metadata": {},
   "outputs": [
    {
     "name": "stdout",
     "output_type": "stream",
     "text": [
      "{'and': 1, 'strings.': 1, 'comprehensions': 1, 'the': 1, 'for': 1, 'Such': 1, 'of': 3, 'word': 2, 'that': 1, 'key': 1, 'is': 2, 'construction': 1, 'from': 1, 'value.': 1, 'dictionary': 2, 'list': 1, 'frequency': 2, 'Use': 1}\n"
     ]
    }
   ],
   "source": [
    "word_freq = { dw:words.count(dw) for dw in distinct_words }\n",
    "print(word_freq)"
   ]
  },
  {
   "cell_type": "code",
   "execution_count": null,
   "metadata": {},
   "outputs": [],
   "source": []
  }
 ],
 "metadata": {
  "kernelspec": {
   "display_name": "Python 3",
   "language": "python",
   "name": "python3"
  },
  "language_info": {
   "codemirror_mode": {
    "name": "ipython",
    "version": 3
   },
   "file_extension": ".py",
   "mimetype": "text/x-python",
   "name": "python",
   "nbconvert_exporter": "python",
   "pygments_lexer": "ipython3",
   "version": "3.7.3"
  }
 },
 "nbformat": 4,
 "nbformat_minor": 2
}
