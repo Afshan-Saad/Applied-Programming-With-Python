{
 "cells": [
  {
   "cell_type": "code",
   "execution_count": null,
   "metadata": {},
   "outputs": [],
   "source": [
    "import random\n",
    "import math\n",
    "\n",
    "def prime(n):\n",
    "    for i in range(2, n//2):\n",
    "        if n % i == 0:\n",
    "            return False\n",
    "    return True\n",
    "\n",
    "def prime_2(n):\n",
    "    for i in range(2, int(math.sqrt(n))):\n",
    "        if n % i == 0:\n",
    "            return False\n",
    "    return True\n",
    "\n",
    "def extract_prime_numbers(L):\n",
    "    return [x for x in L if prime_2(x) ]\n",
    "\n",
    "\n",
    "def quest_2(I):\n",
    "    return { x for x in I if prime(x) and 0 < x > math.sqrt(abs(x)) }\n",
    "\n",
    "def quest_3(I):\n",
    "    if type(I) is dict:\n",
    "        return [ v for k,v in I.items() if v > 30000 ]\n",
    "    \n",
    "def quest_4(I):\n",
    "    if type(I) is dict:\n",
    "        return { k:v for k,v in I.items() if v > 30000 }\n",
    "    \n",
    "def quest_5(I):\n",
    "    if type(I) is str:\n",
    "        chars = [ x for x in I ]\n",
    "        return [ x for x in chars if x not in {'a', 'e', 'i', 'o', 'u'} ]\n",
    "    \n",
    "def quest_6(S):\n",
    "    if type(S) is list:\n",
    "        return [ x.upper() for x in S]\n",
    "    \n",
    "def quest_7(S):\n",
    "    if type(S) is list:\n",
    "        return [ x for x in S if x[0].upper() in { 'A', 'E', 'I', 'O', 'U'} ]"
   ]
  },
  {
   "cell_type": "code",
   "execution_count": null,
   "metadata": {},
   "outputs": [],
   "source": [
    "print(1001//3)"
   ]
  },
  {
   "cell_type": "markdown",
   "metadata": {},
   "source": [
    "# Question 1: Try to pick out all prime numbers which between [50 to 5000] from a list of random numbers."
   ]
  },
  {
   "cell_type": "code",
   "execution_count": null,
   "metadata": {},
   "outputs": [],
   "source": [
    "N = [ random.randint(0,100000) for x in range(2000) ]\n",
    "P = extract_prime_numbers(N)"
   ]
  },
  {
   "cell_type": "code",
   "execution_count": null,
   "metadata": {},
   "outputs": [],
   "source": [
    "print(P)"
   ]
  },
  {
   "cell_type": "code",
   "execution_count": null,
   "metadata": {
    "scrolled": true
   },
   "outputs": [],
   "source": [
    "P2 = extract_prime_numbers(N)\n",
    "print(P2)"
   ]
  },
  {
   "cell_type": "code",
   "execution_count": null,
   "metadata": {},
   "outputs": [],
   "source": [
    "assert P == P2"
   ]
  },
  {
   "cell_type": "markdown",
   "metadata": {},
   "source": [
    "# Question 2\n",
    "\n",
    "![https://latex.codecogs.com/png.latex?%5Cbg_white&space;%5CLARGE&space;%5C%5C&space;Z&space;=&space;%5Cleft&space;%5C%7B&space;%5Ctext%7Ba&space;set&space;of&space;100&space;random&space;real&space;numbers%7D&space;%5Cright&space;%5C%7D%5C%5C&space;S&space;=&space;%5Cleft&space;%5C%7B&space;x&space;%7C&space;x&space;%5Cin&space;Z,&space;x&space;%5Ctext%7B&space;is&space;prime&space;and&space;%7D&space;0&space;%3C&space;x&space;%3C&space;%5Csqrt%7B%5Cleft&space;%5C%7C&space;x&space;%5Cright&space;%5C%7C%7D&space;%5Cright&space;%5C%7D](https://latex.codecogs.com/png.latex?%5Cbg_white&space;%5CLARGE&space;%5C%5C&space;Z&space;=&space;%5Cleft&space;%5C%7B&space;%5Ctext%7Ba&space;set&space;of&space;100&space;random&space;real&space;numbers%7D&space;%5Cright&space;%5C%7D%5C%5C&space;S&space;=&space;%5Cleft&space;%5C%7B&space;x&space;%7C&space;x&space;%5Cin&space;Z,&space;x&space;%5Ctext%7B&space;is&space;prime&space;and&space;%7D&space;0&space;%3C&space;x&space;%3C&space;%5Csqrt%7B%5Cleft&space;%5C%7C&space;x&space;%5Cright&space;%5C%7C%7D&space;%5Cright&space;%5C%7D)"
   ]
  },
  {
   "cell_type": "code",
   "execution_count": null,
   "metadata": {},
   "outputs": [],
   "source": [
    "Z = set(N)\n",
    "print(Z)\n",
    "O = quest_2(Z)\n",
    "print(O)"
   ]
  },
  {
   "cell_type": "markdown",
   "metadata": {},
   "source": [
    "# Question 3: Suppose you have a dictionary, where key = name of person and value = salary. Extract all salries which are greater than 30000."
   ]
  },
  {
   "cell_type": "code",
   "execution_count": null,
   "metadata": {},
   "outputs": [],
   "source": [
    "salary_dict = { 'person1':23477, 'person2':33287, 'person3':35462, 'perosn4':13465, 'person5':1324672 }\n",
    "salaries = quest_3(salary_dict)\n",
    "print(salaries)"
   ]
  },
  {
   "cell_type": "markdown",
   "metadata": {},
   "source": [
    "# Question 4: Suppose you have a dictionary, where key = name of person and value = salary. Extract all key-value pairs where salries which are greater than 30000."
   ]
  },
  {
   "cell_type": "code",
   "execution_count": null,
   "metadata": {},
   "outputs": [],
   "source": [
    "salary_dict = { 'person1':23477, 'person2':33287, 'person3':35462, 'perosn4':13465, 'person5':24672, 'person6':43739 }\n",
    "salaries = quest_4(salary_dict)\n",
    "print(salaries)"
   ]
  },
  {
   "cell_type": "markdown",
   "metadata": {},
   "source": [
    "# Question 5: write your full name in variable and make list of consonant characters in name using comprehension"
   ]
  },
  {
   "cell_type": "code",
   "execution_count": null,
   "metadata": {},
   "outputs": [],
   "source": [
    "string = 'Muhammad Yaseen Khan'\n",
    "chars = [ x for x in string ]\n",
    "print(chars)"
   ]
  },
  {
   "cell_type": "code",
   "execution_count": null,
   "metadata": {},
   "outputs": [],
   "source": [
    "print(quest_5(string))"
   ]
  },
  {
   "cell_type": "markdown",
   "metadata": {},
   "source": [
    "# Question 6: Converting each element of a list to upper case using the list comprehension."
   ]
  },
  {
   "cell_type": "code",
   "execution_count": null,
   "metadata": {},
   "outputs": [],
   "source": [
    "string = 'converting each element of a list to upper case using the list comprehension.'\n",
    "words = string.split(  )\n",
    "print(words)\n",
    "print(quest_6(words))"
   ]
  },
  {
   "cell_type": "markdown",
   "metadata": {},
   "source": [
    "# Question 7: We have to form a new list that contains only fruit names starting with a vowel."
   ]
  },
  {
   "cell_type": "code",
   "execution_count": null,
   "metadata": {},
   "outputs": [],
   "source": [
    "print(quest_7(words))"
   ]
  },
  {
   "cell_type": "markdown",
   "metadata": {},
   "source": [
    "# Question 8: Suppose you have a list of mulitple datatyped items. Extract all which are integers."
   ]
  },
  {
   "cell_type": "code",
   "execution_count": null,
   "metadata": {},
   "outputs": [],
   "source": [
    "W = [12, 45, 85, 90.0, 25.23, 'yaseen', '238']\n",
    "W2 = [ x for x in W if type(x) is int ]\n",
    "print(W2)"
   ]
  },
  {
   "cell_type": "markdown",
   "metadata": {},
   "source": [
    "# Python Main Function\n",
    "\n",
    "It DOES run on the notebook as well, I just forgot to `print`."
   ]
  },
  {
   "cell_type": "code",
   "execution_count": null,
   "metadata": {},
   "outputs": [],
   "source": [
    "def say_hello(greeting, repeat):\n",
    "    print( greeting * repeat)\n",
    "\n",
    "if __name__ == '__main__':\n",
    "    string = input(\"Enter your greetings \")\n",
    "    repeat = int(input(\"How many times you want it to repeat? \"))\n",
    "    say_hello(string, repeat)\n"
   ]
  },
  {
   "cell_type": "code",
   "execution_count": null,
   "metadata": {},
   "outputs": [],
   "source": []
  }
 ],
 "metadata": {
  "kernelspec": {
   "display_name": "Python 3",
   "language": "python",
   "name": "python3"
  },
  "language_info": {
   "codemirror_mode": {
    "name": "ipython",
    "version": 3
   },
   "file_extension": ".py",
   "mimetype": "text/x-python",
   "name": "python",
   "nbconvert_exporter": "python",
   "pygments_lexer": "ipython3",
   "version": "3.7.3"
  }
 },
 "nbformat": 4,
 "nbformat_minor": 2
}
