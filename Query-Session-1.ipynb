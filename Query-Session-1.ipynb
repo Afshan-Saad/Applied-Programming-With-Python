{
  "nbformat": 4,
  "nbformat_minor": 0,
  "metadata": {
    "colab": {
      "name": "Query session 01.ipynb",
      "provenance": [],
      "collapsed_sections": []
    },
    "kernelspec": {
      "name": "python3",
      "display_name": "Python 3"
    }
  },
  "cells": [
    {
      "cell_type": "markdown",
      "metadata": {
        "id": "wF9hurPnYxKx",
        "colab_type": "text"
      },
      "source": [
        "Suppose you have a list of 100 random numbers. \n",
        "Write a small Python script for converting that list into tuples, \n",
        "supplied WITH the condition that the tuple contains only prime numbers. \n",
        "(paste your snippet here as the answer) *"
      ]
    },
    {
      "cell_type": "code",
      "metadata": {
        "id": "Eq8U10eMY0Tm",
        "colab_type": "code",
        "colab": {}
      },
      "source": [
        "import random"
      ],
      "execution_count": 0,
      "outputs": []
    },
    {
      "cell_type": "code",
      "metadata": {
        "id": "UfrmvN-zY-AF",
        "colab_type": "code",
        "colab": {}
      },
      "source": [
        "numbers = []\n",
        "for i in range(100):\n",
        "  numbers.append(random.randint(0,100))"
      ],
      "execution_count": 0,
      "outputs": []
    },
    {
      "cell_type": "code",
      "metadata": {
        "id": "XGgHE05nZVuX",
        "colab_type": "code",
        "colab": {
          "base_uri": "https://localhost:8080/",
          "height": 54
        },
        "outputId": "34af10a2-6f94-482a-c4ca-4709e04f65b9"
      },
      "source": [
        "print(numbers)"
      ],
      "execution_count": 11,
      "outputs": [
        {
          "output_type": "stream",
          "text": [
            "[58, 67, 100, 86, 34, 20, 67, 25, 30, 27, 52, 50, 91, 22, 52, 46, 1, 78, 86, 77, 51, 31, 86, 86, 70, 51, 18, 48, 18, 100, 54, 52, 4, 64, 70, 10, 55, 81, 7, 88, 59, 64, 90, 45, 4, 3, 73, 53, 27, 23, 75, 15, 40, 64, 0, 27, 91, 27, 100, 29, 21, 49, 12, 15, 17, 59, 4, 41, 70, 43, 63, 51, 63, 75, 80, 83, 89, 41, 72, 9, 57, 27, 61, 35, 11, 33, 3, 100, 4, 85, 12, 69, 17, 12, 63, 11, 74, 90, 5, 34]\n"
          ],
          "name": "stdout"
        }
      ]
    },
    {
      "cell_type": "code",
      "metadata": {
        "id": "31WWo8FIZlYQ",
        "colab_type": "code",
        "colab": {
          "base_uri": "https://localhost:8080/",
          "height": 52
        },
        "outputId": "b54161f1-5dc7-4b98-feab-bea51c7b60fd"
      },
      "source": [
        "prime = []\n",
        "for item in numbers:\n",
        "  if item % 2 == 0 or item % 3 == 0 or item % 5 == 0 or item % 7 == 0:\n",
        "    pass\n",
        "  else:\n",
        "    prime.append(item)\n",
        "\n",
        "prime = tuple(prime)\n",
        "print(prime)\n",
        "type(prime)"
      ],
      "execution_count": 15,
      "outputs": [
        {
          "output_type": "stream",
          "text": [
            "(67, 67, 1, 31, 59, 73, 53, 23, 29, 17, 59, 41, 43, 83, 89, 41, 61, 11, 17, 11)\n"
          ],
          "name": "stdout"
        },
        {
          "output_type": "execute_result",
          "data": {
            "text/plain": [
              "tuple"
            ]
          },
          "metadata": {
            "tags": []
          },
          "execution_count": 15
        },
        {
          "output_type": "stream",
          "text": [
            "ERROR! Session/line number was not unique in database. History logging moved to new session 59\n"
          ],
          "name": "stdout"
        }
      ]
    },
    {
      "cell_type": "markdown",
      "metadata": {
        "id": "OPcZQ3vkcCKb",
        "colab_type": "text"
      },
      "source": [
        ""
      ]
    },
    {
      "cell_type": "code",
      "metadata": {
        "id": "pdZ75EDDZ2Se",
        "colab_type": "code",
        "colab": {}
      },
      "source": [
        "# Assignment 2"
      ],
      "execution_count": 0,
      "outputs": []
    },
    {
      "cell_type": "code",
      "metadata": {
        "id": "EG1uBCMEcbdv",
        "colab_type": "code",
        "colab": {}
      },
      "source": [
        "u_poets = ('غالب', 'اقبال', 'فیض', 'ناصر', 'فراز', 'جون', 'آتش', 'چکبست', 'حالی', 'سودا', 'میر', 'مضطر', 'شکیب', 'ساحر', 'شکیل', 'مجروح', 'اختر', 'گلزار', 'امجد', 'ناز')\n",
        "\n",
        "e_poets = ('Ghalib', 'Iqbal', 'Faiz', 'Nasir', 'Faraz', 'Jon', 'Aatish', 'Chakbast', 'Haali', 'Sauda', 'Mir', 'Muztar', 'Shakeeb', 'Sahir', 'Shakil', 'Majrooh', 'Akhtar', 'Gulzar', 'Amjad', 'Naaz' )"
      ],
      "execution_count": 0,
      "outputs": []
    },
    {
      "cell_type": "code",
      "metadata": {
        "id": "ajGCXkMzcevL",
        "colab_type": "code",
        "colab": {}
      },
      "source": [
        "assert len(u_poets) == len(e_poets)"
      ],
      "execution_count": 0,
      "outputs": []
    },
    {
      "cell_type": "code",
      "metadata": {
        "id": "05r8SdPicj5D",
        "colab_type": "code",
        "colab": {
          "base_uri": "https://localhost:8080/",
          "height": 369
        },
        "outputId": "0cd04bbb-71b5-44e9-b370-1398af76b828"
      },
      "source": [
        "for item in u_poets:\n",
        "  print(item)"
      ],
      "execution_count": 41,
      "outputs": [
        {
          "output_type": "stream",
          "text": [
            "غالب\n",
            "اقبال\n",
            "فیض\n",
            "ناصر\n",
            "فراز\n",
            "جون\n",
            "آتش\n",
            "چکبست\n",
            "حالی\n",
            "سودا\n",
            "میر\n",
            "مضطر\n",
            "شکیب\n",
            "ساحر\n",
            "شکیل\n",
            "مجروح\n",
            "اختر\n",
            "گلزار\n",
            "امجد\n",
            "ناز\n"
          ],
          "name": "stdout"
        }
      ]
    },
    {
      "cell_type": "code",
      "metadata": {
        "id": "nCfXREA_crfv",
        "colab_type": "code",
        "colab": {
          "base_uri": "https://localhost:8080/",
          "height": 369
        },
        "outputId": "9f84bf70-6bdb-43ed-bdcd-9c1bdbda862f"
      },
      "source": [
        "for item in e_poets:\n",
        "  print(item)"
      ],
      "execution_count": 42,
      "outputs": [
        {
          "output_type": "stream",
          "text": [
            "Ghalib\n",
            "Iqbal\n",
            "Faiz\n",
            "Nasir\n",
            "Faraz\n",
            "Jon\n",
            "Aatish\n",
            "Chakbast\n",
            "Haali\n",
            "Sauda\n",
            "Mir\n",
            "Muztar\n",
            "Shakeeb\n",
            "Sahir\n",
            "Shakil\n",
            "Majrooh\n",
            "Akhtar\n",
            "Gulzar\n",
            "Amjad\n",
            "Naaz\n"
          ],
          "name": "stdout"
        }
      ]
    },
    {
      "cell_type": "code",
      "metadata": {
        "id": "E_pZBl3acuU-",
        "colab_type": "code",
        "colab": {
          "base_uri": "https://localhost:8080/",
          "height": 54
        },
        "outputId": "488266b4-ce67-42bb-c57e-e67ab36e813e"
      },
      "source": [
        "l_poets = []\n",
        "for i, item in enumerate(u_poets):\n",
        "  l_poets.append((u_poets[i], e_poets[i])) \n",
        "print(l_poets)"
      ],
      "execution_count": 43,
      "outputs": [
        {
          "output_type": "stream",
          "text": [
            "[('غالب', 'Ghalib'), ('اقبال', 'Iqbal'), ('فیض', 'Faiz'), ('ناصر', 'Nasir'), ('فراز', 'Faraz'), ('جون', 'Jon'), ('آتش', 'Aatish'), ('چکبست', 'Chakbast'), ('حالی', 'Haali'), ('سودا', 'Sauda'), ('میر', 'Mir'), ('مضطر', 'Muztar'), ('شکیب', 'Shakeeb'), ('ساحر', 'Sahir'), ('شکیل', 'Shakil'), ('مجروح', 'Majrooh'), ('اختر', 'Akhtar'), ('گلزار', 'Gulzar'), ('امجد', 'Amjad'), ('ناز', 'Naaz')]\n"
          ],
          "name": "stdout"
        }
      ]
    },
    {
      "cell_type": "code",
      "metadata": {
        "id": "8dVA6mKEfufH",
        "colab_type": "code",
        "colab": {
          "base_uri": "https://localhost:8080/",
          "height": 54
        },
        "outputId": "e7396e91-94be-42f9-ac54-14112a1f46bc"
      },
      "source": [
        "l_poets = []\n",
        "for i, item in enumerate(u_poets):\n",
        "  #l_poets = l_poets + [ (u_poets[i], e_poets[i]) ] \n",
        "  l_poets += [ (u_poets[i], e_poets[i]) ] \n",
        "print(l_poets)"
      ],
      "execution_count": 44,
      "outputs": [
        {
          "output_type": "stream",
          "text": [
            "[('غالب', 'Ghalib'), ('اقبال', 'Iqbal'), ('فیض', 'Faiz'), ('ناصر', 'Nasir'), ('فراز', 'Faraz'), ('جون', 'Jon'), ('آتش', 'Aatish'), ('چکبست', 'Chakbast'), ('حالی', 'Haali'), ('سودا', 'Sauda'), ('میر', 'Mir'), ('مضطر', 'Muztar'), ('شکیب', 'Shakeeb'), ('ساحر', 'Sahir'), ('شکیل', 'Shakil'), ('مجروح', 'Majrooh'), ('اختر', 'Akhtar'), ('گلزار', 'Gulzar'), ('امجد', 'Amjad'), ('ناز', 'Naaz')]\n"
          ],
          "name": "stdout"
        }
      ]
    },
    {
      "cell_type": "code",
      "metadata": {
        "id": "ZNp7xfGDj1NU",
        "colab_type": "code",
        "colab": {}
      },
      "source": [
        "[(u_poets[i], e_poets[i]) for i in range(0, len(u_poets))] "
      ],
      "execution_count": 0,
      "outputs": []
    },
    {
      "cell_type": "code",
      "metadata": {
        "id": "bmOvv5-PhCR-",
        "colab_type": "code",
        "colab": {
          "base_uri": "https://localhost:8080/",
          "height": 54
        },
        "outputId": "9dbb4611-39a0-4bdd-b13f-eccd4650f620"
      },
      "source": [
        "z_poets = zip(u_poets, e_poets)\n",
        "z_poets = list(z_poets)\n",
        "print(z_poets)\n",
        "#for item in z_poets:\n",
        "#  print(item)"
      ],
      "execution_count": 31,
      "outputs": [
        {
          "output_type": "stream",
          "text": [
            "[('غالب', 'Ghalib'), ('اقبال', 'Iqbal'), ('فیض', 'Faiz'), ('ناصر', 'Nasir'), ('فراز', 'Faraz'), ('جون', 'Jon'), ('آتش', 'Aatish'), ('چکبست', 'Chakbast'), ('حالی', 'Haali'), ('سودا', 'Sauda'), ('میر', 'Mir'), ('مضطر', 'Muztar'), ('شکیب', 'Shakeeb'), ('ساحر', 'Sahir'), ('شکیل', 'Shakil'), ('مجروح', 'Majrooh'), ('اختر', 'Akhtar'), ('گلزار', 'Gulzar'), ('امجد', 'Amjad'), ('ناز', 'Naaz')]\n"
          ],
          "name": "stdout"
        }
      ]
    },
    {
      "cell_type": "code",
      "metadata": {
        "id": "KLuASe29h5dE",
        "colab_type": "code",
        "colab": {
          "base_uri": "https://localhost:8080/",
          "height": 52
        },
        "outputId": "0a5f2255-cd7b-4174-aa49-640c29fbecee"
      },
      "source": [
        "u_poets = ('آتش', 'چکبست', 'حالی', 'سودا', 'میر', 'مضطر', 'شکیب', 'ساحر', 'شکیل', 'مجروح', 'اختر', 'گلزار', 'امجد', 'ناز')\n",
        "h_poets = ('asdfasf', 'asdfasd')\n",
        "e_poets = ('Ghalib', 'Iqbal', 'Faiz', 'Nasir', 'Faraz', 'Jon', 'Aatish', 'Chakbast', 'Haali', 'Sauda', 'Mir', 'Muztar', 'Shakeeb', 'Sahir', 'Shakil', 'Majrooh', 'Akhtar', 'Gulzar', 'Amjad', 'Naaz' )\n",
        "print(len(u_poets), len(e_poets))\n",
        "x_poets = list(zip(u_poets,e_poets, h_poets))\n",
        "print(x_poets)"
      ],
      "execution_count": 38,
      "outputs": [
        {
          "output_type": "stream",
          "text": [
            "14 20\n",
            "[('آتش', 'Ghalib', 'asdfasf'), ('چکبست', 'Iqbal', 'asdfasd')]\n"
          ],
          "name": "stdout"
        }
      ]
    },
    {
      "cell_type": "code",
      "metadata": {
        "id": "iDDYL93edcwa",
        "colab_type": "code",
        "colab": {
          "base_uri": "https://localhost:8080/",
          "height": 54
        },
        "outputId": "08465b79-8bf2-4cd9-b295-99561b52519f"
      },
      "source": [
        "print(l_poets)"
      ],
      "execution_count": 25,
      "outputs": [
        {
          "output_type": "stream",
          "text": [
            "[('غالب', 'Ghalib'), ('اقبال', 'Iqbal'), ('فیض', 'Faiz'), ('ناصر', 'Nasir'), ('فراز', 'Faraz'), ('جون', 'Jon'), ('آتش', 'Aatish'), ('چکبست', 'Chakbast'), ('حالی', 'Haali'), ('سودا', 'Sauda'), ('میر', 'Mir'), ('مضطر', 'Muztar'), ('شکیب', 'Shakeeb'), ('ساحر', 'Sahir'), ('شکیل', 'Shakil'), ('مجروح', 'Majrooh'), ('اختر', 'Akhtar'), ('گلزار', 'Gulzar'), ('امجد', 'Amjad'), ('ناز', 'Naaz')]\n"
          ],
          "name": "stdout"
        }
      ]
    },
    {
      "cell_type": "markdown",
      "metadata": {
        "id": "gAs3f-rye_Rj",
        "colab_type": "text"
      },
      "source": [
        "# lst.append(item)\n",
        "# lst = lst + [(item)]"
      ]
    },
    {
      "cell_type": "code",
      "metadata": {
        "id": "aHzyEfJuey0S",
        "colab_type": "code",
        "colab": {
          "base_uri": "https://localhost:8080/",
          "height": 34
        },
        "outputId": "ebd8c6a6-3414-41c4-8d6e-791dc455607e"
      },
      "source": [
        "a =  [1,2,3]\n",
        "b = [4,6,8]\n",
        "\n",
        "c = a + b\n",
        "\n",
        "print(c)"
      ],
      "execution_count": 26,
      "outputs": [
        {
          "output_type": "stream",
          "text": [
            "[1, 2, 3, 4, 6, 8]\n"
          ],
          "name": "stdout"
        }
      ]
    },
    {
      "cell_type": "code",
      "metadata": {
        "id": "fKnGMdG0fVln",
        "colab_type": "code",
        "colab": {
          "base_uri": "https://localhost:8080/",
          "height": 34
        },
        "outputId": "3f5f9e16-737d-4230-a3ab-b99b9731e0da"
      },
      "source": [
        "a.append(b)\n",
        "\n",
        "print(a)"
      ],
      "execution_count": 28,
      "outputs": [
        {
          "output_type": "stream",
          "text": [
            "[1, 2, 3, [4, 6, 8]]\n"
          ],
          "name": "stdout"
        }
      ]
    },
    {
      "cell_type": "code",
      "metadata": {
        "id": "iaadhSURfeWT",
        "colab_type": "code",
        "colab": {}
      },
      "source": [
        "a = 1\n",
        "a = a+1\n",
        "a += 1"
      ],
      "execution_count": 0,
      "outputs": []
    },
    {
      "cell_type": "code",
      "metadata": {
        "id": "Z6FsFRz3kTOB",
        "colab_type": "code",
        "colab": {
          "base_uri": "https://localhost:8080/",
          "height": 34
        },
        "outputId": "e501da49-d74c-4ef7-af4a-f030144dd0b3"
      },
      "source": [
        "a=1\n",
        "b=str(10000000000)\n",
        "print(b)"
      ],
      "execution_count": 53,
      "outputs": [
        {
          "output_type": "stream",
          "text": [
            "10000000000\n"
          ],
          "name": "stdout"
        }
      ]
    },
    {
      "cell_type": "code",
      "metadata": {
        "id": "XmkuG7PokT2a",
        "colab_type": "code",
        "colab": {}
      },
      "source": [
        ""
      ],
      "execution_count": 0,
      "outputs": []
    }
  ]
}