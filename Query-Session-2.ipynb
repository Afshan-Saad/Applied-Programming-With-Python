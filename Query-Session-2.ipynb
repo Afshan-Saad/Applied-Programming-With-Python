{
 "cells": [
  {
   "cell_type": "code",
   "execution_count": null,
   "metadata": {},
   "outputs": [],
   "source": [
    "f(key) = the index where we have to put the key value pair\n",
    "\n",
    "f(key1) = f(key2) = same\n",
    "key1 != key2 -> collision"
   ]
  },
  {
   "cell_type": "code",
   "execution_count": 5,
   "metadata": {},
   "outputs": [],
   "source": [
    "mirza_ghalib = {\n",
    "    'name' : 'Asadullah Khan',\n",
    "    'pen_name': 'Ghalib',\n",
    "    'birth' : 'Agra',\n",
    "    'death' : 'Dehli',\n",
    "    'genere': ['ghazals', 'marsiya', 'letters', 'qasida', 'qita', 'mukhammas', 'musaddas'],\n",
    "    'likes': ['mangoes', 'kabab', 'wine'],\n",
    "    'assets': ['letters', 'collection of poetry', 'photos'],\n",
    "    'pen_name': 'Asad'\n",
    "}"
   ]
  },
  {
   "cell_type": "code",
   "execution_count": 10,
   "metadata": {},
   "outputs": [
    {
     "name": "stdout",
     "output_type": "stream",
     "text": [
      "<class 'dict'>\n",
      "{'name': 'Asadullah Khan', 'pen_name': 'Asad', 'birth': 'Agra', 'death': 'Dehli', 'genere': ['ghazals', 'marsiya', 'letters', 'qasida'], 'likes': ['mangoes', 'kabab']}\n",
      "['mangoes', 'kabab']\n",
      "dict_keys(['name', 'pen_name', 'birth', 'death', 'genere', 'likes'])\n",
      "dict_values(['Asadullah Khan', 'Asad', 'Agra', 'Dehli', ['ghazals', 'marsiya', 'letters', 'qasida'], ['mangoes', 'kabab']])\n"
     ]
    }
   ],
   "source": [
    "print(type(mirza_ghalib))\n",
    "print(mirza_ghalib)\n",
    "print(mirza_ghalib['likes'])\n",
    "\n",
    "print(mirza_ghalib.keys())\n",
    "print(mirza_ghalib.values())"
   ]
  },
  {
   "cell_type": "code",
   "execution_count": 13,
   "metadata": {},
   "outputs": [
    {
     "name": "stdout",
     "output_type": "stream",
     "text": [
      "name Asadullah Khan\n",
      "pen_name Asad\n",
      "birth Agra\n",
      "death Dehli\n",
      "genere ['ghazals', 'marsiya', 'letters', 'qasida']\n",
      "likes ['mangoes', 'kabab']\n"
     ]
    }
   ],
   "source": [
    "for x in mirza_ghalib:\n",
    "    #print(x)\n",
    "    print(x, mirza_ghalib[x])"
   ]
  },
  {
   "cell_type": "code",
   "execution_count": 14,
   "metadata": {},
   "outputs": [
    {
     "name": "stdout",
     "output_type": "stream",
     "text": [
      "name\n",
      "pen_name\n",
      "birth\n",
      "death\n",
      "genere\n",
      "likes\n"
     ]
    }
   ],
   "source": [
    "for x in mirza_ghalib.keys():\n",
    "    print(x)"
   ]
  },
  {
   "cell_type": "code",
   "execution_count": 15,
   "metadata": {},
   "outputs": [
    {
     "name": "stdout",
     "output_type": "stream",
     "text": [
      "Asadullah Khan\n",
      "Asad\n",
      "Agra\n",
      "Dehli\n",
      "['ghazals', 'marsiya', 'letters', 'qasida']\n",
      "['mangoes', 'kabab']\n"
     ]
    }
   ],
   "source": [
    "for x in mirza_ghalib.values():\n",
    "    print(x)"
   ]
  },
  {
   "cell_type": "code",
   "execution_count": 16,
   "metadata": {},
   "outputs": [
    {
     "name": "stdout",
     "output_type": "stream",
     "text": [
      "('name', 'Asadullah Khan')\n",
      "('pen_name', 'Asad')\n",
      "('birth', 'Agra')\n",
      "('death', 'Dehli')\n",
      "('genere', ['ghazals', 'marsiya', 'letters', 'qasida'])\n",
      "('likes', ['mangoes', 'kabab'])\n"
     ]
    }
   ],
   "source": [
    "for x in mirza_ghalib.items():\n",
    "    print(x)"
   ]
  },
  {
   "cell_type": "code",
   "execution_count": 18,
   "metadata": {},
   "outputs": [
    {
     "name": "stdout",
     "output_type": "stream",
     "text": [
      "ghazals\n",
      "marsiya\n",
      "letters\n",
      "qasida\n"
     ]
    }
   ],
   "source": [
    "for x in mirza_ghalib['genere']:\n",
    "    print(x)"
   ]
  },
  {
   "cell_type": "code",
   "execution_count": 20,
   "metadata": {},
   "outputs": [
    {
     "name": "stdout",
     "output_type": "stream",
     "text": [
      "ghazals\n",
      "marsiya\n",
      "letters\n",
      "qasida\n",
      "mangoes\n",
      "kabab\n"
     ]
    }
   ],
   "source": [
    "for x in mirza_ghalib:\n",
    "    if type(mirza_ghalib[x]) == list or type(mirza_ghalib[x]) == set or type(mirza_ghalib[x]) == tuple:\n",
    "        for y in mirza_ghalib[x]:\n",
    "            print(y)\n",
    "        "
   ]
  },
  {
   "cell_type": "code",
   "execution_count": 22,
   "metadata": {},
   "outputs": [],
   "source": [
    "yaseen = {\n",
    "    'first_name': 'yaseen',\n",
    "    'last_name': 'khan',\n",
    "    'fav' : { 'book': 'the alchemist', 'tv_show': 'loose talk', 'hobby': 'planting' }\n",
    "}"
   ]
  },
  {
   "cell_type": "code",
   "execution_count": 24,
   "metadata": {},
   "outputs": [
    {
     "name": "stdout",
     "output_type": "stream",
     "text": [
      "the alchemist\n",
      "loose talk\n",
      "planting\n"
     ]
    }
   ],
   "source": [
    "for k in yaseen['fav']:\n",
    "    print(yaseen['fav'][k])\n",
    "        "
   ]
  },
  {
   "cell_type": "markdown",
   "metadata": {},
   "source": [
    "# Make a definition to count number of strings in list starting with small character.\n",
    "# lst=['apple,'banana','Cherry','strawberry', 'Orange']\n",
    "# Output = 3\n",
    "\n",
    "\n",
    "\n",
    "\n",
    "\n"
   ]
  },
  {
   "cell_type": "code",
   "execution_count": 32,
   "metadata": {},
   "outputs": [],
   "source": [
    "# print('A'.isupper())\n",
    "# print('a'.isupper())\n",
    "\n",
    "def count_lower_chars(lst):\n",
    "    if len(lst) == 0:\n",
    "        return 0\n",
    "    \n",
    "    count = 0\n",
    "    for item in lst:\n",
    "        if item[0].islower():\n",
    "            count += 1\n",
    "    \n",
    "    return count"
   ]
  },
  {
   "cell_type": "code",
   "execution_count": 33,
   "metadata": {},
   "outputs": [
    {
     "name": "stdout",
     "output_type": "stream",
     "text": [
      "3\n"
     ]
    }
   ],
   "source": [
    "lst= ['apple', 'banana', 'Cherry', 'strawberry', 'Orange']\n",
    "counts = count_lower_chars(lst)\n",
    "print(counts)"
   ]
  },
  {
   "cell_type": "markdown",
   "metadata": {},
   "source": [
    "# Make definition to find the percentage of occurrence of character in a given string\n",
    "\n",
    "## `str1='ATCGTTGCGATTC'`\n",
    "## `x='b'`\n",
    "## `OUTPUT = 0.0`\n",
    "## `str1='ATCGTTGCGATTC'`\n",
    "## `x='A'`\n",
    "## `OUTPUT = 15.384615384615385`"
   ]
  },
  {
   "cell_type": "code",
   "execution_count": 35,
   "metadata": {},
   "outputs": [
    {
     "name": "stdout",
     "output_type": "stream",
     "text": [
      "33.33333333333333\n",
      "20.0\n"
     ]
    }
   ],
   "source": [
    "def char_percentage(string,key):\n",
    "    if len(string) == 0:\n",
    "        return 0.\n",
    "    count = 0\n",
    "    for c in string:\n",
    "        if c == key:\n",
    "            count += 1\n",
    "    return (count/len(string)) * 100\n",
    "\n",
    "string = 'goole.com'\n",
    "key = 'o'\n",
    "print(char_percentage(string,key))\n",
    "\n",
    "string = 'teddy.bear'\n",
    "key = 'e'\n",
    "print(char_percentage(string,key))\n"
   ]
  },
  {
   "cell_type": "markdown",
   "metadata": {},
   "source": [
    "# Suppose you have a huge string. Split that string into words, and count how many times a word exists in the string. Report your answer in the form of dictionary."
   ]
  },
  {
   "cell_type": "code",
   "execution_count": 39,
   "metadata": {},
   "outputs": [
    {
     "name": "stdout",
     "output_type": "stream",
     "text": [
      "{'Evening\"': 1, 'show': 1, 'immediate': 1, 'film': 1, 'lyrics': 1, 'plot': 1, 'ten': 1, 'Pacific.': 1, 'Drama.': 1, 'production': 1, 'hit': 1, 'Enchanted': 1, 'is': 2, 'Rodgers': 1, 'tours,': 1, 'talents': 1, 'stars,': 1, 'They': 1, 'Logan.': 1, 'Awards,': 1, 'spawning': 1, 'performances': 1, 'Right': 1, 'work': 1, 'Outa': 1, 'running': 1, 'message': 1, 'II': 1, 'Richard': 1, 'revivals': 1, 'Pinza': 1, 'The': 4, 'has': 1, 'and': 9, 'for': 2, 'Hair\"': 1, 'Martin,': 1, 'Hammerstein': 3, 'mind.': 1, 'winning': 1, 'That': 1, 'original': 2, 'Best': 1, 'pictured).': 1, 'an': 1, 'by': 3, '(performance': 1, 'composed': 1, 'stories': 1, '1947': 1, 'Rodgers,': 1, 'Tales': 1, 'progressive': 1, 'musical': 2, 'many': 1, 'Joshua': 1, 'South': 2, 'strong': 1, 'James': 1, '\"I\\'m': 1, 'bestselling': 1, 'Most': 1, 'enjoyed': 1, 'Prize': 1, '\"Some': 1, 'adaptations.': 1, 'based': 1, 'believed': 1, 'Man': 1, 'on': 3, 'Prize–winning': 1, 'racism.': 1, 'could': 1, 'My': 1, 'book': 2, 'Oscar': 1, \"Michener's\": 1, 'television': 1, 'article...)': 1, 'Pulitzer': 2, 'Broadway': 2, 'songs': 2, 'successful': 2, 'including': 2, 'was': 2, 'A.': 1, 'send': 1, 'wrote': 1, 'Gonna': 1, 'record': 1, 'Tony': 1, 'their': 1, 'with': 2, 'album': 1, 'Musical;': 1, 'popular,': 1, 'a': 3, '1949,': 1, 'won': 1, 'Wash': 1, 'particular': 1, 'its': 2, 'the': 7, '1,925': 1, 'Ezio': 1, 'several': 2, '1958': 1, 'Mary': 1, 'that': 1, 'later': 1, 'of': 5, 'Pacific': 1, 'be': 1, 'cast': 1, '1940s.': 1, 'became': 1, 'in': 3, '(Full': 1}\n"
     ]
    }
   ],
   "source": [
    "string = \"\"\"South Pacific is a musical composed by Richard Rodgers, with lyrics by Oscar Hammerstein II and book by Hammerstein and Joshua Logan. The work was an immediate hit on Broadway in 1949, running for 1,925 performances and winning the Pulitzer Prize for Drama. The plot is based on several stories in James A. Michener's Pulitzer Prize–winning 1947 book Tales of the South Pacific. Rodgers and Hammerstein believed that the musical could be successful and send a strong progressive message on racism. They wrote several of the songs with the particular talents of their stars, Ezio Pinza and Mary Martin, in mind. Most of its songs became popular, including \"Some Enchanted Evening\" and \"I'm Gonna Wash That Man Right Outa My Hair\" (performance pictured). The original Broadway production won ten Tony Awards, including Best Musical; its original cast album was the bestselling record of the 1940s. The show has enjoyed many successful revivals and tours, spawning a 1958 film and later television adaptations. (Full article...)\"\"\"\n",
    "\n",
    "words = string.split()\n",
    "distinct_words = set(words)\n",
    "count = dict()\n",
    "\n",
    "for w in distinct_words:\n",
    "    c = words.count(w)\n",
    "    count[w] = c \n",
    "\n",
    "print(count)"
   ]
  },
  {
   "cell_type": "code",
   "execution_count": 40,
   "metadata": {},
   "outputs": [],
   "source": [
    "alpha = {'beta': 14}\n",
    "\n",
    "\n",
    "alpha['gamma'] = 17"
   ]
  },
  {
   "cell_type": "code",
   "execution_count": 41,
   "metadata": {},
   "outputs": [
    {
     "name": "stdout",
     "output_type": "stream",
     "text": [
      "{'beta': 14, 'gamma': 17}\n"
     ]
    }
   ],
   "source": [
    "print(alpha)"
   ]
  },
  {
   "cell_type": "code",
   "execution_count": 42,
   "metadata": {},
   "outputs": [
    {
     "name": "stdout",
     "output_type": "stream",
     "text": [
      "{'beta': 14, 'gamma': 90}\n"
     ]
    }
   ],
   "source": [
    "alpha['gamma'] = 90\n",
    "print(alpha)"
   ]
  },
  {
   "cell_type": "code",
   "execution_count": 43,
   "metadata": {},
   "outputs": [
    {
     "name": "stdout",
     "output_type": "stream",
     "text": [
      "{'beta': 14, 'gamma': 91}\n"
     ]
    }
   ],
   "source": [
    "alpha['gamma'] = alpha['gamma'] + 1\n",
    "print(alpha)"
   ]
  },
  {
   "cell_type": "code",
   "execution_count": null,
   "metadata": {},
   "outputs": [],
   "source": []
  }
 ],
 "metadata": {
  "kernelspec": {
   "display_name": "Python 3",
   "language": "python",
   "name": "python3"
  },
  "language_info": {
   "codemirror_mode": {
    "name": "ipython",
    "version": 3
   },
   "file_extension": ".py",
   "mimetype": "text/x-python",
   "name": "python",
   "nbconvert_exporter": "python",
   "pygments_lexer": "ipython3",
   "version": "3.7.3"
  }
 },
 "nbformat": 4,
 "nbformat_minor": 2
}
