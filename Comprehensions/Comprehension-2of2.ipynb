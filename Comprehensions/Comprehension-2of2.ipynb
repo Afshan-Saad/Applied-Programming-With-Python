{
 "cells": [
  {
   "cell_type": "markdown",
   "metadata": {},
   "source": [
    "# Understanding 1: “Flattening the list of lists into a single list\""
   ]
  },
  {
   "cell_type": "code",
   "execution_count": 2,
   "metadata": {},
   "outputs": [],
   "source": [
    "input_data = [\n",
    "    [1,2,3],\n",
    "    [4,5,6],\n",
    "    [7,8,9]\n",
    "]"
   ]
  },
  {
   "cell_type": "code",
   "execution_count": 4,
   "metadata": {},
   "outputs": [
    {
     "name": "stdout",
     "output_type": "stream",
     "text": [
      "[1, 2, 3, 4, 5, 6, 7, 8, 9]\n"
     ]
    }
   ],
   "source": [
    "# Simple programme without comprehensions\n",
    "output_data = list()\n",
    "for x in input_data:\n",
    "    for y in x:\n",
    "        output_data.append(y)\n",
    "print(output_data)"
   ]
  },
  {
   "cell_type": "code",
   "execution_count": 2,
   "metadata": {},
   "outputs": [
    {
     "name": "stdout",
     "output_type": "stream",
     "text": [
      "[1, 2, 3, 4, 5, 6, 7, 8, 9]\n"
     ]
    }
   ],
   "source": [
    "output_data = [ y for x in input_data for y in x ]\n",
    "print(output_data)"
   ]
  },
  {
   "cell_type": "markdown",
   "metadata": {},
   "source": [
    "# Understanding 2: “Extraction of all string values from the list of sets.”"
   ]
  },
  {
   "cell_type": "code",
   "execution_count": 3,
   "metadata": {},
   "outputs": [],
   "source": [
    "input_data = [\n",
    "    {\"Mahmud\", \"Gandhi\", 49.5},\n",
    "    {1948, \"Jinnah\", \"Iqbal\", \"Azad\"},\n",
    "    {\"Bose\", \"Singh\", \"Johar\", 2, \"Panday\"}\n",
    "]"
   ]
  },
  {
   "cell_type": "code",
   "execution_count": 4,
   "metadata": {},
   "outputs": [
    {
     "name": "stdout",
     "output_type": "stream",
     "text": [
      "{'Jinnah', 'Johar', 'Bose', 'Iqbal', 'Mahmud', 'Azad', 'Panday', 'Singh', 'Gandhi'}\n"
     ]
    }
   ],
   "source": [
    "output_data = { y for x in input_data for y in x if type(y) == str } \n",
    "print(output_data)"
   ]
  },
  {
   "cell_type": "markdown",
   "metadata": {},
   "source": [
    "# Challenge 1: “Extraction of all sets from the list of sets, provided there is no None or Empty item in the nested set”"
   ]
  },
  {
   "cell_type": "code",
   "execution_count": 7,
   "metadata": {},
   "outputs": [],
   "source": [
    "input_data = [\n",
    "    {None,\"\",45.099},\n",
    "    {18,\"Elvis\",True,\"Tina\"},\n",
    "    {False,45,55.25,None,\"\"}\n",
    "]"
   ]
  },
  {
   "cell_type": "code",
   "execution_count": 9,
   "metadata": {},
   "outputs": [
    {
     "name": "stdout",
     "output_type": "stream",
     "text": [
      "{False, True, 'Tina', 45.099, 45, 18, 'Elvis', 55.25}\n"
     ]
    }
   ],
   "source": [
    "output_data = { y for x in input_data for y in x if y not in {None, \"\"} }\n",
    "print(output_data)"
   ]
  },
  {
   "cell_type": "markdown",
   "metadata": {},
   "source": [
    "# Challenge 2: “Extraction of all sets from the list of lists, provided the length of nested list is 2, further the first item in nested list must be string of len 2, and the second item must be a list of 3 items.”"
   ]
  },
  {
   "cell_type": "code",
   "execution_count": 10,
   "metadata": {},
   "outputs": [],
   "source": [
    "input_data = [\n",
    "    [\"us\", [\"United States\", 1776, 1]],\n",
    "    [\"pk\", [\"Pakistan\", 1947, 92]],\n",
    "    [\"in\", [\"India\", 1947, 91]],\n",
    "    [18, [\"Bangladesh\", 1971, 880]],\n",
    "    [\"la\", [\"La La Land\", 0]],\n",
    "    [\"zl\", [\"ZeaLand\"]],\n",
    "]"
   ]
  },
  {
   "cell_type": "code",
   "execution_count": 11,
   "metadata": {},
   "outputs": [
    {
     "name": "stdout",
     "output_type": "stream",
     "text": [
      "[['us', ['United States', 1776, 1]], ['pk', ['Pakistan', 1947, 92]], ['in', ['India', 1947, 91]]]\n"
     ]
    }
   ],
   "source": [
    "output_data = [x for x in input_data if len(x)==2 and type(x[0])==str and len(x[0])==2 and type(x[1])==list and len(x[1])==3]\n",
    "print(output_data)"
   ]
  },
  {
   "cell_type": "markdown",
   "metadata": {},
   "source": [
    "# Understanding 3: “Extraction key value pairs from the list of dictionaries, key contains the alphabet 'x'.”"
   ]
  },
  {
   "cell_type": "code",
   "execution_count": 12,
   "metadata": {},
   "outputs": [],
   "source": [
    "input_data = [\n",
    "    {'axe':{1,24,5}, 'box':{2,15,24}},\n",
    "    {'aim':{1,9,13}, 'gear':{7,5,1,18}},\n",
    "    {'six':{19,9,24}, 'tin':{20,9,11}},\n",
    "]"
   ]
  },
  {
   "cell_type": "code",
   "execution_count": 13,
   "metadata": {},
   "outputs": [
    {
     "name": "stdout",
     "output_type": "stream",
     "text": [
      "{'axe': {24, 1, 5}, 'box': {24, 2, 15}, 'six': {24, 9, 19}}\n"
     ]
    }
   ],
   "source": [
    "output_data = { k:v for x in input_data for k,v in x.items() if 'x' in k }\n",
    "print(output_data)"
   ]
  },
  {
   "cell_type": "markdown",
   "metadata": {},
   "source": [
    "# Challenge 3: Extract all key-value pairs from the list of dictionaries where the value of key is True"
   ]
  },
  {
   "cell_type": "code",
   "execution_count": 14,
   "metadata": {},
   "outputs": [],
   "source": [
    "input_data = [\n",
    "    {'id': 4, 'male': True, 'emp': False},\n",
    "    {'id': 5, 'edu': 12, 'alive': True},\n",
    "    {'id': 6, 'eng': True, 'enrl': False},\n",
    "]"
   ]
  },
  {
   "cell_type": "code",
   "execution_count": 15,
   "metadata": {},
   "outputs": [
    {
     "name": "stdout",
     "output_type": "stream",
     "text": [
      "{'male': True, 'alive': True, 'eng': True}\n"
     ]
    }
   ],
   "source": [
    "output_data = { k:v for x in input_data for k,v in x.items() if v == True}\n",
    "print(output_data)"
   ]
  },
  {
   "cell_type": "code",
   "execution_count": null,
   "metadata": {},
   "outputs": [],
   "source": []
  }
 ],
 "metadata": {
  "kernelspec": {
   "display_name": "Python 3",
   "language": "python",
   "name": "python3"
  },
  "language_info": {
   "codemirror_mode": {
    "name": "ipython",
    "version": 3
   },
   "file_extension": ".py",
   "mimetype": "text/x-python",
   "name": "python",
   "nbconvert_exporter": "python",
   "pygments_lexer": "ipython3",
   "version": "3.7.3"
  }
 },
 "nbformat": 4,
 "nbformat_minor": 2
}
