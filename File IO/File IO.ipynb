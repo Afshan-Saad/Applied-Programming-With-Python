{
 "cells": [
  {
   "cell_type": "markdown",
   "metadata": {},
   "source": [
    "# Reading a file. Creating a file object."
   ]
  },
  {
   "cell_type": "code",
   "execution_count": null,
   "metadata": {},
   "outputs": [],
   "source": [
    "file = open('week.txt', 'r')\n",
    "content = file.read()\n",
    "print(content)\n",
    "file.close()"
   ]
  },
  {
   "cell_type": "markdown",
   "metadata": {},
   "source": [
    "# Better way to create a file object. Use `with` keyword."
   ]
  },
  {
   "cell_type": "code",
   "execution_count": null,
   "metadata": {},
   "outputs": [],
   "source": [
    "with open('week.txt', 'r') as file:\n",
    "    content = file.read()\n",
    "    print(content)"
   ]
  },
  {
   "cell_type": "markdown",
   "metadata": {},
   "source": [
    "# Reading a file, line-by-line."
   ]
  },
  {
   "cell_type": "code",
   "execution_count": null,
   "metadata": {},
   "outputs": [],
   "source": [
    "with open('week.txt', 'r') as file:\n",
    "    for line in file:\n",
    "        print(line, end='')"
   ]
  },
  {
   "cell_type": "markdown",
   "metadata": {},
   "source": [
    "# Reading a file in UTF-x format."
   ]
  },
  {
   "cell_type": "code",
   "execution_count": null,
   "metadata": {},
   "outputs": [],
   "source": [
    "with open('pray-urdu.txt', 'r', encoding='utf-8') as file:\n",
    "    for line in file:\n",
    "        print(line, end='')"
   ]
  },
  {
   "cell_type": "code",
   "execution_count": null,
   "metadata": {},
   "outputs": [],
   "source": [
    "with open('pray-dev.txt', 'r', encoding='utf-8') as file:\n",
    "    for l in file:\n",
    "        print(l, end='')"
   ]
  },
  {
   "cell_type": "markdown",
   "metadata": {},
   "source": [
    "# Reading a directory file by file. (or) Iterating through a directory."
   ]
  },
  {
   "cell_type": "code",
   "execution_count": null,
   "metadata": {},
   "outputs": [],
   "source": [
    "import os"
   ]
  },
  {
   "cell_type": "code",
   "execution_count": 23,
   "metadata": {},
   "outputs": [
    {
     "name": "stdout",
     "output_type": "stream",
     "text": [
      "सारे जहाँ से अच्छा हिन्दोस्ताँ हमारा\n",
      "हम बुलबुलें हैं इस की ये गुलसिताँ हमारा\n",
      "ग़ुर्बत में हों अगर हम रहता है दिल वतन में\n",
      "समझो वहीं हमें भी दिल हो जहाँ हमारा\n",
      "पर्बत वो सब से ऊँचा हम-साया आसमाँ का\n",
      "वो संतरी हमारा वो पासबाँ हमारा\n",
      "गोदी में खेलती हैं इस की हज़ारों नदियाँ\n",
      "गुलशन है जिन के दम से रश्क-ए-जिनाँ हमारा\n",
      "ऐ आब-रूद-ए-गंगा वो दिन है याद तुझ को\n",
      "उतरा तिरे किनारे जब कारवाँ हमारा\n",
      "मज़हब नहीं सिखाता आपस में बैर रखना\n",
      "हिन्दी हैं हम वतन है हिन्दोस्ताँ हमारा\n",
      "यूनान ओ मिस्र ओ रूमा सब मिट गए जहाँ से\n",
      "अब तक मगर है बाक़ी नाम-ओ-निशाँ हमारा\n",
      "कुछ बात है कि हस्ती मिटती नहीं हमारी\n",
      "सदियों रहा है दुश्मन दौर-ए-ज़माँ हमारा\n",
      "'इक़बाल' कोई महरम अपना नहीं जहाँ में\n",
      "मालूम क्या किसी को दर्द-ए-निहाँ हमारा \n",
      "--------------------------------------------------\n",
      "दिल ही तो है न संग-ओ-ख़िश्त दर्द से भर न आए क्यूँ\n",
      "रोएँगे हम हज़ार बार कोई हमें सताए क्यूँ\n",
      "दैर नहीं हरम नहीं दर नहीं आस्ताँ नहीं\n",
      "बैठे हैं रहगुज़र पे हम ग़ैर हमें उठाए क्यूँ\n",
      "जब वो जमाल-ए-दिल-फ़रोज़ सूरत-ए-मेहर-ए-नीमरोज़\n",
      "आप ही हो नज़्ज़ारा-सोज़ पर्दे में मुँह छुपाए क्यूँ\n",
      "दश्ना-ए-ग़म्ज़ा जाँ-सिताँ नावक-ए-नाज़ बे-पनाह\n",
      "तेरा ही अक्स-ए-रुख़ सही सामने तेरे आए क्यूँ\n",
      "क़ैद-ए-हयात ओ बंद-ए-ग़म अस्ल में दोनों एक हैं\n",
      "मौत से पहले आदमी ग़म से नजात पाए क्यूँ\n",
      "हुस्न और उस पे हुस्न-ए-ज़न रह गई बुल-हवस की शर्म\n",
      "अपने पे ए'तिमाद है ग़ैर को आज़माए क्यूँ\n",
      "वाँ वो ग़ुरूर-ए-इज्ज़-ओ-नाज़ याँ ये हिजाब-ए-पास-ए-वज़अ\n",
      "राह में हम मिलें कहाँ बज़्म में वो बुलाए क्यूँ\n",
      "हाँ वो नहीं ख़ुदा-परस्त जाओ वो बेवफ़ा सही\n",
      "जिस को हो दीन ओ दिल अज़ीज़ उस की गली में जाए क्यूँ\n",
      "'ग़ालिब'-ए-ख़स्ता के बग़ैर कौन से काम बंद हैं\n",
      "रोइए ज़ार ज़ार क्या कीजिए हाए हाए क्यूँ\n",
      "--------------------------------------------------\n",
      "वो बुतों ने डाले हैं वसवसे कि दिलों से ख़ौफ़-ए-ख़ुदा गया\n",
      "वो पड़ी हैं रोज़ क़यामतें कि ख़याल-ए-रोज़-ए-जज़ा गया\n",
      "जो नफ़स था ख़ार-ए-गुलू बना जो उठे थे हाथ लहू हुए\n",
      "वो नशात-ए-आह-ए-सहर गई वो वक़ार-ए-दस्त-ए-दुआ गया\n",
      "न वो रंग फ़स्ल-ए-बहार का न रविश वो अब्र-ए-बहार की\n",
      "जिस अदा से यार थे आश्ना वो मिज़ाज-ए-बाद-ए-सबा गया\n",
      "जो तलब पे अहद-ए-वफ़ा किया तो वो आबरू-ए-वफ़ा गई\n",
      "सर-ए-आम जब हुए मुद्दई' तो सवाब-ए-सिदक़-ओ-सफ़ा गया\n",
      "अभी बादबान को तह रखो अभी मुज़्तरिब है रुख़-ए-हवा\n",
      "किसी रास्ते में है मुंतज़िर वो सुकूँ जो आ के चला गया\n",
      "--------------------------------------------------\n"
     ]
    }
   ],
   "source": [
    "for root, dirs, files in os.walk('Poems/'):\n",
    "    for f in files:\n",
    "        if f.endswith('.txt') and '-hindi' in f:\n",
    "            with open(os.path.join(root,f), 'r', encoding='utf-8') as file:\n",
    "                print(file.read())\n",
    "                print('-' * 50)"
   ]
  },
  {
   "cell_type": "markdown",
   "metadata": {},
   "source": [
    "# Writing a file in Python.\n",
    "\n",
    "`a` - appending. Appends the content in the end.\n",
    "\n",
    "`w` - writing. Erase the pre-existing content in file, and writes as a new file."
   ]
  },
  {
   "cell_type": "code",
   "execution_count": 25,
   "metadata": {},
   "outputs": [],
   "source": [
    "with open('my-content.txt', 'w') as file:\n",
    "    string = 'My name is Muhammad Yaseen Khan \\n'\n",
    "    file.write(string)"
   ]
  },
  {
   "cell_type": "code",
   "execution_count": 27,
   "metadata": {},
   "outputs": [],
   "source": [
    "with open('my-content.txt', 'a', encoding='utf-8') as file:\n",
    "    line1 = 'वो बुतों ने डाले हैं वसवसे कि दिलों से ख़ौफ़-ए-ख़ुदा गया' + '\\n'\n",
    "    line2 = 'وہ بتوں نے ڈالے ہیں وسوسے کہ دلوں سے خوف خدا گیا' + '\\n'\n",
    "    file.write(line1)\n",
    "    file.write(line2)"
   ]
  },
  {
   "cell_type": "markdown",
   "metadata": {},
   "source": [
    "# A neat example of file reading and writing in Python."
   ]
  },
  {
   "cell_type": "code",
   "execution_count": 28,
   "metadata": {},
   "outputs": [],
   "source": [
    "math = urdu = hindi = arts = science = dict()"
   ]
  },
  {
   "cell_type": "code",
   "execution_count": 31,
   "metadata": {},
   "outputs": [],
   "source": [
    "for root, dirs, files in os.walk('Scores'):\n",
    "    for f in files:\n",
    "        with open(os.path.join(root, f), 'r') as file:\n",
    "            if 'hindi' in f:\n",
    "                for line in file:\n",
    "                    key,value = line.strip().split(',')\n",
    "                    hindi[key] = value\n",
    "            if 'urdu' in f:\n",
    "                for line in file:\n",
    "                    key,value = line.strip().split(',')\n",
    "                    urdu[key] = value\n",
    "            if 'maths' in f:\n",
    "                for line in file:\n",
    "                    key,value = line.strip().split(',')\n",
    "                    math[key] = value\n",
    "            if 'science' in f:\n",
    "                for line in file:\n",
    "                    key,value = line.strip().split(',')\n",
    "                    science[key] = value\n",
    "            if 'arts' in f:\n",
    "                for line in file:\n",
    "                    key,value = line.strip().split(',')\n",
    "                    arts[key] = value"
   ]
  },
  {
   "cell_type": "code",
   "execution_count": 32,
   "metadata": {},
   "outputs": [],
   "source": [
    "percentage = dict()"
   ]
  },
  {
   "cell_type": "code",
   "execution_count": 33,
   "metadata": {},
   "outputs": [],
   "source": [
    "for k in science.keys():\n",
    "    percentage[k] = (int(math[k]) + int(science[k]) + int(urdu[k]) + int(hindi[k]) + int(arts[k]))/5.\n",
    "    "
   ]
  },
  {
   "cell_type": "code",
   "execution_count": 34,
   "metadata": {},
   "outputs": [
    {
     "name": "stdout",
     "output_type": "stream",
     "text": [
      "{'Amit': 89.0, 'Behroze': 76.0, 'Cyra': 69.0, 'David': 88.0, 'Edward': 66.0, 'Fatima': 71.0, 'Govind': 80.0, 'Irfan': 65.0, 'Jyoti': 79.0, 'Kiran': 90.0}\n"
     ]
    }
   ],
   "source": [
    "print(percentage)"
   ]
  },
  {
   "cell_type": "code",
   "execution_count": 37,
   "metadata": {},
   "outputs": [],
   "source": [
    "with open('Scores/percentage.csv', 'w') as file:\n",
    "    for k in percentage:\n",
    "        file.write(k + ',' + str(percentage[k]) + '\\n')"
   ]
  },
  {
   "cell_type": "code",
   "execution_count": null,
   "metadata": {},
   "outputs": [],
   "source": []
  }
 ],
 "metadata": {
  "kernelspec": {
   "display_name": "Python 3",
   "language": "python",
   "name": "python3"
  },
  "language_info": {
   "codemirror_mode": {
    "name": "ipython",
    "version": 3
   },
   "file_extension": ".py",
   "mimetype": "text/x-python",
   "name": "python",
   "nbconvert_exporter": "python",
   "pygments_lexer": "ipython3",
   "version": "3.7.3"
  }
 },
 "nbformat": 4,
 "nbformat_minor": 2
}
