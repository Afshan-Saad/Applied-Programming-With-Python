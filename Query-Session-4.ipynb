{
 "cells": [
  {
   "cell_type": "markdown",
   "metadata": {},
   "source": [
    "# Question 1: There is a list of list with numeral values. Flatten this list of list in a single dimension list of even values.\n",
    "```\n",
    "input_data = [ \n",
    "  [7,4,5,8,3,42,4],  \n",
    "  [2,3,5,7,2,36,7,],  \n",
    "  [3,6,8,9,5,4,2,5],  \n",
    "]\n",
    "```"
   ]
  },
  {
   "cell_type": "code",
   "execution_count": 1,
   "metadata": {},
   "outputs": [],
   "source": [
    "input_data = [ \n",
    "  [7,4,5,8,3,42,4],  \n",
    "  [2,3,5,7,2,36,7,],  \n",
    "  [3,6,8,9,5,4,2,5],  \n",
    "]"
   ]
  },
  {
   "cell_type": "code",
   "execution_count": 2,
   "metadata": {},
   "outputs": [
    {
     "name": "stdout",
     "output_type": "stream",
     "text": [
      "[4, 8, 42, 4, 2, 2, 36, 6, 8, 4, 2]\n"
     ]
    }
   ],
   "source": [
    "output_data = [ y for x in input_data for y in x if y % 2 == 0 ]\n",
    "print(output_data)"
   ]
  },
  {
   "cell_type": "markdown",
   "metadata": {},
   "source": [
    "# Question 2: Consider a square matrix and extract all values in left diagonal\n",
    "```\n",
    "input_data = [ \n",
    "  [7,4,5],  \n",
    "  [2,3,5],  \n",
    "  [3,6,8],  \n",
    "]\n",
    "```"
   ]
  },
  {
   "cell_type": "code",
   "execution_count": 3,
   "metadata": {},
   "outputs": [
    {
     "name": "stdout",
     "output_type": "stream",
     "text": [
      "[7, 3, 8]\n"
     ]
    }
   ],
   "source": [
    "output_data = [ x[i] for i,x in enumerate(input_data) ]\n",
    "print(output_data)"
   ]
  },
  {
   "cell_type": "code",
   "execution_count": 4,
   "metadata": {},
   "outputs": [
    {
     "name": "stdout",
     "output_type": "stream",
     "text": [
      "[7, 3, 8]\n"
     ]
    }
   ],
   "source": [
    "output_data_2 = [ input_data[i][i] for i in range(len(input_data)) ]\n",
    "print(output_data_2)"
   ]
  },
  {
   "cell_type": "markdown",
   "metadata": {},
   "source": [
    "# Question 3: There is a dictionary contatining name:subject numbers of different students.  You need to make another dictionary which contaion name:percentage of students)\n",
    "```\n",
    "scores = {\n",
    " 'Ali':[30, 25, 35, 40], \n",
    " 'Monis':[80, 75, 68, 95], \n",
    " 'Sheeraz':[50, 38, 42, 12], \n",
    " 'Amir':[85, 63, 79, 80]\n",
    " }\n",
    "```"
   ]
  },
  {
   "cell_type": "code",
   "execution_count": 11,
   "metadata": {},
   "outputs": [],
   "source": [
    "scores = {\n",
    " 'Ali':[30, 25, 35, 40], \n",
    " 'Monis':[80, 75, 68, 95], \n",
    " 'Sheeraz':[50, 38, 42, 12], \n",
    " 'Amir':[85, 63, 79, 80]\n",
    " }"
   ]
  },
  {
   "cell_type": "code",
   "execution_count": 7,
   "metadata": {},
   "outputs": [
    {
     "name": "stdout",
     "output_type": "stream",
     "text": [
      "{'Ali': 32.5, 'Monis': 79.5, 'Sheeraz': 35.5, 'Amir': 76.75}\n"
     ]
    }
   ],
   "source": [
    "output_1 = { x:sum(scores[x])/len(scores[x]) for x in scores }\n",
    "print(output_1)"
   ]
  },
  {
   "cell_type": "code",
   "execution_count": 8,
   "metadata": {},
   "outputs": [
    {
     "name": "stdout",
     "output_type": "stream",
     "text": [
      "{'Ali': 32.5, 'Monis': 79.5, 'Sheeraz': 35.5, 'Amir': 76.75}\n"
     ]
    }
   ],
   "source": [
    "output_2 = { key:sum(value)/len(value) for key,value in scores.items() }\n",
    "print(output_2)"
   ]
  },
  {
   "cell_type": "markdown",
   "metadata": {},
   "source": [
    "#### Which one is better"
   ]
  },
  {
   "cell_type": "code",
   "execution_count": 9,
   "metadata": {},
   "outputs": [],
   "source": [
    "import timeit"
   ]
  },
  {
   "cell_type": "code",
   "execution_count": 37,
   "metadata": {
    "scrolled": true
   },
   "outputs": [],
   "source": [
    "code_1 = \"\"\"\n",
    "scores = {\n",
    " 'Ali':[30, 25, 35, 40], \n",
    " 'Monis':[80, 75, 68, 95], \n",
    " 'Sheeraz':[50, 38, 42, 12], \n",
    " 'Amir':[85, 63, 79, 80]\n",
    " }\n",
    "output_1 = { x:sum(scores[x])/len(scores[x]) for x in scores }\n",
    "\"\"\"\n",
    "code_2 = \"\"\"\n",
    "scores = {\n",
    " 'Ali':[30, 25, 35, 40], \n",
    " 'Monis':[80, 75, 68, 95], \n",
    " 'Sheeraz':[50, 38, 42, 12], \n",
    " 'Amir':[85, 63, 79, 80]\n",
    " }\n",
    "output_2 = { key:sum(value)/len(value) for key,value in scores.items() }\n",
    "\"\"\"\n",
    "execution_time_1 = timeit.timeit(code_1, number=1000)\n",
    "execution_time_2 = timeit.timeit(code_2, number=1000)"
   ]
  },
  {
   "cell_type": "code",
   "execution_count": 38,
   "metadata": {},
   "outputs": [
    {
     "name": "stdout",
     "output_type": "stream",
     "text": [
      "0.003292352019343525\n",
      "0.0023616450489498675\n"
     ]
    }
   ],
   "source": [
    "print(execution_time_1)\n",
    "print(execution_time_2)"
   ]
  },
  {
   "cell_type": "markdown",
   "metadata": {},
   "source": [
    "# Question 4: Using nested list comprehension make a pattern\n",
    "```\n",
    "[\n",
    "        [‘X’, ‘0’, ‘X’]\n",
    "        [‘X’, ‘0’, ‘X’]\n",
    "        [‘X’, ‘0’, ‘X’]\n",
    "]\n",
    "```"
   ]
  },
  {
   "cell_type": "code",
   "execution_count": 58,
   "metadata": {},
   "outputs": [
    {
     "name": "stdout",
     "output_type": "stream",
     "text": [
      "Yes\n"
     ]
    }
   ],
   "source": [
    "value = 90\n",
    "answer = 'Yes' if value % 2 == 0 else 'No'\n",
    "print(answer)"
   ]
  },
  {
   "cell_type": "code",
   "execution_count": 64,
   "metadata": {},
   "outputs": [
    {
     "name": "stdout",
     "output_type": "stream",
     "text": [
      "[['X', 'O', 'X'], ['X', 'O', 'X'], ['X', 'O', 'X']]\n"
     ]
    }
   ],
   "source": [
    "pattern = [ [ 'X' if y % 2 == 0 else 'O' for y in range(3) ] for i in range(3) ]\n",
    "print(pattern)"
   ]
  },
  {
   "cell_type": "markdown",
   "metadata": {},
   "source": [
    "# Question 5: Extract a dictionary with key-value pair as number_of_character as key and list of words have respective length (as defined in key)\n",
    "```\n",
    "listOfWords = [\"this\",\"is\",\"a\",\"list\",\"of\",\"words\"]\n",
    "\n",
    "{4: ['list','this'], 2: ['of', 'is'], 1: ['a'], 5: ['words']}\n",
    "```"
   ]
  },
  {
   "cell_type": "code",
   "execution_count": 66,
   "metadata": {},
   "outputs": [
    {
     "name": "stdout",
     "output_type": "stream",
     "text": [
      "['Extract', 'a', 'dictionary', 'with', 'key-value', 'pair', 'as', 'number_of_character', 'as', 'key', 'and', 'list', 'of', 'words', 'have', 'respective', 'length', '(as', 'defined', 'in', 'key)']\n"
     ]
    }
   ],
   "source": [
    "words = 'Extract a dictionary with key-value pair as number_of_character as key and list of words have respective length (as defined in key)'.split()\n",
    "print(words)"
   ]
  },
  {
   "cell_type": "code",
   "execution_count": 70,
   "metadata": {},
   "outputs": [
    {
     "name": "stdout",
     "output_type": "stream",
     "text": [
      "{1: ['a'], 2: ['as', 'as', 'of', 'in'], 3: ['key', 'and', '(as'], 4: ['with', 'pair', 'list', 'have', 'key)'], 5: ['words'], 6: ['length'], 7: ['Extract', 'defined'], 9: ['key-value'], 10: ['dictionary', 'respective'], 19: ['number_of_character']}\n"
     ]
    }
   ],
   "source": [
    "dictionary = {k:v for k,v in {key:[w for w in words if len(w)==key] for key in range(1, 21)}.items() if len(v)!=0 }\n",
    "print(dictionary)"
   ]
  },
  {
   "cell_type": "code",
   "execution_count": null,
   "metadata": {},
   "outputs": [],
   "source": []
  }
 ],
 "metadata": {
  "kernelspec": {
   "display_name": "Python 3",
   "language": "python",
   "name": "python3"
  },
  "language_info": {
   "codemirror_mode": {
    "name": "ipython",
    "version": 3
   },
   "file_extension": ".py",
   "mimetype": "text/x-python",
   "name": "python",
   "nbconvert_exporter": "python",
   "pygments_lexer": "ipython3",
   "version": "3.7.3"
  }
 },
 "nbformat": 4,
 "nbformat_minor": 2
}
