{
 "cells": [
  {
   "cell_type": "code",
   "execution_count": 1,
   "metadata": {},
   "outputs": [],
   "source": [
    "import json\n",
    "import requests\n",
    "from bs4 import BeautifulSoup"
   ]
  },
  {
   "cell_type": "code",
   "execution_count": 2,
   "metadata": {},
   "outputs": [],
   "source": [
    "url_head = 'https://www.ijunoon.com/dictionary/'\n",
    "url_tail = '-urdu-meaning/'"
   ]
  },
  {
   "cell_type": "code",
   "execution_count": 5,
   "metadata": {},
   "outputs": [
    {
     "name": "stdout",
     "output_type": "stream",
     "text": [
      "[('نکما', 'nikamma'), ('شرمیلا', 'sharmeela'), ('کمزور', 'kamzor'), ('مردہ', 'murda'), ('دیکھنا', 'dekhna'), ('نگاہ کرنا', 'nigaah karna'), ('غور کرنا', 'ghour karna'), ('تلاش کرنا', 'talaash karna'), ('سونا', 'sona'), ('آرام کرنا', 'aaram karna'), ('نیند آنا', 'neend aana'), ('دفن کرنا', 'dafan karna'), ('بے فکر رہنا', 'bay fikar rehna'), ('غیر مستقل', 'ghair mustaqil'), ('متلون', 'matloon'), ('چلنے پھرنے والا', 'chalnay phirnay wala'), ('نقل پذیر', 'naqal pazeer'), ('موبائل', 'mubile'), ('متحرک', 'mutharrak'), ('قابل حرکت', 'qabil e harkat'), ('چمچہ', 'chamcha'), ('سادہ لوح', 'saada looh'), ('بیوقوف', 'bewaqoof'), ('عشق بازی کرنا', 'ishq baazi karna'), ('ڈوئی', 'doi'), ('کف گیر', 'kaf geer'), ('چمچ', 'chamach')]\n"
     ]
    }
   ],
   "source": [
    "data = []\n",
    "with open('words.txt', 'r') as file:\n",
    "    for line in file:\n",
    "        url = url_head + line.strip() + url_tail\n",
    "        response = requests.get(url)\n",
    "        if response.status_code == 200:\n",
    "            soup = BeautifulSoup(response.content, 'html.parser')\n",
    "            results = soup.find_all('div', class_='urdu_results')\n",
    "            urdu = results[0].find_all('div', class_='u')\n",
    "            roman = results[0].find_all('div', class_='r')\n",
    "            urdu = [e.text for e in urdu]\n",
    "            roman = [e.text for e in roman]\n",
    "            temp = list(zip(urdu,roman))\n",
    "            data += temp\n",
    "print(data)"
   ]
  },
  {
   "cell_type": "code",
   "execution_count": 6,
   "metadata": {},
   "outputs": [],
   "source": [
    "with open('data.json', 'w', encoding='utf-8') as file:\n",
    "    json.dump(data, file, ensure_ascii=False, indent=2)"
   ]
  },
  {
   "cell_type": "code",
   "execution_count": null,
   "metadata": {},
   "outputs": [],
   "source": [
    "data = [\n",
    "    'I love database',\n",
    "    'database is love',\n",
    "    'I love cats'\n",
    "]"
   ]
  },
  {
   "cell_type": "code",
   "execution_count": null,
   "metadata": {},
   "outputs": [],
   "source": [
    "uw = [I, love, database, is, cats]\n",
    "\n",
    "incidence = [\n",
    "     \n",
    "    [1,1,1,0,0],\n",
    "    [0,1,1,1,0],\n",
    "    [1,1,0,0,1]\n",
    "\n",
    "]"
   ]
  }
 ],
 "metadata": {
  "kernelspec": {
   "display_name": "Python 3",
   "language": "python",
   "name": "python3"
  },
  "language_info": {
   "codemirror_mode": {
    "name": "ipython",
    "version": 3
   },
   "file_extension": ".py",
   "mimetype": "text/x-python",
   "name": "python",
   "nbconvert_exporter": "python",
   "pygments_lexer": "ipython3",
   "version": "3.7.3"
  }
 },
 "nbformat": 4,
 "nbformat_minor": 2
}
